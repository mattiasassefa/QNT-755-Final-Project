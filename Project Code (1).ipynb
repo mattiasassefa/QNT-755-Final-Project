{
 "cells": [
  {
   "cell_type": "code",
   "execution_count": 5,
   "id": "c487a908-f0e0-4157-a8e1-00b255bafa1e",
   "metadata": {},
   "outputs": [],
   "source": [
    "import pickle as pi\n",
    "import pandas as pd\n",
    "import numpy as np\n",
    "from sklearn.impute import SimpleImputer"
   ]
  },
  {
   "cell_type": "code",
   "execution_count": 6,
   "id": "3121836f-3ec3-423f-9f38-ecb7b9e50e76",
   "metadata": {},
   "outputs": [],
   "source": [
    "with open ('NHANES.pickle','rb')as f:\n",
    "    data = pi.load(f)"
   ]
  },
  {
   "cell_type": "code",
   "execution_count": 7,
   "id": "d4b67eca-6f5e-43d3-a572-fc774279b624",
   "metadata": {},
   "outputs": [
    {
     "data": {
      "text/html": [
       "<div>\n",
       "<style scoped>\n",
       "    .dataframe tbody tr th:only-of-type {\n",
       "        vertical-align: middle;\n",
       "    }\n",
       "\n",
       "    .dataframe tbody tr th {\n",
       "        vertical-align: top;\n",
       "    }\n",
       "\n",
       "    .dataframe thead th {\n",
       "        text-align: right;\n",
       "    }\n",
       "</style>\n",
       "<table border=\"1\" class=\"dataframe\">\n",
       "  <thead>\n",
       "    <tr style=\"text-align: right;\">\n",
       "      <th></th>\n",
       "      <th>2011_2012</th>\n",
       "      <th>2013_2014</th>\n",
       "      <th>2009_2010</th>\n",
       "    </tr>\n",
       "  </thead>\n",
       "  <tbody>\n",
       "    <tr>\n",
       "      <th>Consumer Behavior</th>\n",
       "      <td>SEQN  CBD070  CBD090  CBD110    CBD12...</td>\n",
       "      <td>SEQN  CBD070  CBD090  CBD110  CBD120...</td>\n",
       "      <td>SEQN  CBD010  CBQ020  CBQ030  CBQ040...</td>\n",
       "    </tr>\n",
       "    <tr>\n",
       "      <th>Immunization</th>\n",
       "      <td>SEQN  IMQ011  IMQ020  IMQ040  IMQ070 ...</td>\n",
       "      <td>SEQN  IMQ011  IMQ020  IMQ040  IMQ070...</td>\n",
       "      <td>SEQN  IMQ011  IMQ020  IMQ040  IMQ045...</td>\n",
       "    </tr>\n",
       "    <tr>\n",
       "      <th>Prescription Medication</th>\n",
       "      <td>SEQN  RXDUSE                 RXDDRUG...</td>\n",
       "      <td>SEQN  RXDUSE           RXDDRUG RXDDR...</td>\n",
       "      <td>SEQN  RXDUSE                 RXDDRUG...</td>\n",
       "    </tr>\n",
       "    <tr>\n",
       "      <th>Drug Use</th>\n",
       "      <td>SEQN  DUQ200  DUQ210  DUQ211  DUQ213 ...</td>\n",
       "      <td>SEQN  DUQ200  DUQ210  DUQ211  DUQ213 ...</td>\n",
       "      <td>SEQN  DUQ200  DUQ210  DUQ211  DUQ213 ...</td>\n",
       "    </tr>\n",
       "    <tr>\n",
       "      <th>Physical Function</th>\n",
       "      <td>SEQN  PFQ020  PFQ030  PFQ041  PFQ049 ...</td>\n",
       "      <td>SEQN  PFQ020  PFQ030  PFQ033  PFQ041 ...</td>\n",
       "      <td>SEQN  PFQ020  PFQ030  PFQ041  PFQ049 ...</td>\n",
       "    </tr>\n",
       "    <tr>\n",
       "      <th>Smoking - Cigarette Use</th>\n",
       "      <td>SEQN  SMQ020  SMD030  SMQ040  SMQ050Q...</td>\n",
       "      <td>SEQN  SMQ020  SMD030  SMQ040  SMQ050Q...</td>\n",
       "      <td>SEQN  SMQ020  SMD030  SMQ040  SMQ050Q...</td>\n",
       "    </tr>\n",
       "    <tr>\n",
       "      <th>Weight History</th>\n",
       "      <td>SEQN  WHD010  WHD020  WHQ030  WHQ040 ...</td>\n",
       "      <td>SEQN  WHD010  WHD020  WHQ030  WHQ040 ...</td>\n",
       "      <td>SEQN  WHD010  WHD020  WHQ030  WHQ040 ...</td>\n",
       "    </tr>\n",
       "    <tr>\n",
       "      <th>Current Health Status</th>\n",
       "      <td>SEQN  HSD010  HSQ470  HSQ480  HSQ490 ...</td>\n",
       "      <td>SEQN  HSD010  HSQ500  HSQ510  HSQ520 ...</td>\n",
       "      <td>SEQN  HSD010  HSQ470  HSQ480  HSQ490 ...</td>\n",
       "    </tr>\n",
       "    <tr>\n",
       "      <th>Housing Characteristics</th>\n",
       "      <td>SEQN  HOD050  HOQ065\n",
       "0     62161.0   ...</td>\n",
       "      <td>SEQN  HOD050  HOQ065\n",
       "0      73557.0 ...</td>\n",
       "      <td>SEQN  HOQ040  HOD050  HOD060  HOQ065...</td>\n",
       "    </tr>\n",
       "    <tr>\n",
       "      <th>Volatile Toxicant</th>\n",
       "      <td>SEQN       WTSVOC2Y  VTQ210  VTQ220  ...</td>\n",
       "      <td>SEQN       WTSVOC2Y  VTQ210  VTQ220  ...</td>\n",
       "      <td>SEQN       WTSVOC2Y  VTQ210  VTQ220  ...</td>\n",
       "    </tr>\n",
       "    <tr>\n",
       "      <th>Early Childhood</th>\n",
       "      <td>SEQN  ECD010  ECQ020  ECD070A  ECD070...</td>\n",
       "      <td>SEQN  ECD010  ECQ020  ECD070A  ECD070...</td>\n",
       "      <td>SEQN  ECD010  ECQ020  ECD070A  ECD070...</td>\n",
       "    </tr>\n",
       "    <tr>\n",
       "      <th>Alcohol Use</th>\n",
       "      <td>SEQN  ALQ101  ALQ110  ALQ120Q  ALQ120...</td>\n",
       "      <td>SEQN  ALQ101  ALQ110  ALQ120Q  ALQ120...</td>\n",
       "      <td>SEQN  ALQ101  ALQ110  ALQ120Q  ALQ120...</td>\n",
       "    </tr>\n",
       "    <tr>\n",
       "      <th>Diabetes</th>\n",
       "      <td>SEQN  DIQ010  DID040  DIQ160  DIQ170 ...</td>\n",
       "      <td>SEQN  DIQ010  DID040  DIQ160  DIQ170 ...</td>\n",
       "      <td>SEQN  DIQ010  DID040  DIQ160  DIQ170...</td>\n",
       "    </tr>\n",
       "    <tr>\n",
       "      <th>Sleep Disorders</th>\n",
       "      <td>SEQN  SLD010H  SLQ050  SLQ060\n",
       "0     6...</td>\n",
       "      <td>SEQN  SLD010H  SLQ050  SLQ060\n",
       "0     7...</td>\n",
       "      <td>SEQN  SLD010H  SLQ050  SLQ060\n",
       "0     5...</td>\n",
       "    </tr>\n",
       "    <tr>\n",
       "      <th>Medical Conditions</th>\n",
       "      <td>SEQN  MCQ010  MCQ025  MCQ035  MCQ040 ...</td>\n",
       "      <td>SEQN  MCQ010  MCQ025  MCQ035  MCQ040 ...</td>\n",
       "      <td>SEQN  MCQ010  MCQ025  MCQ035  MCQ040...</td>\n",
       "    </tr>\n",
       "    <tr>\n",
       "      <th>Dermatology</th>\n",
       "      <td>SEQN  DED031  DEQ034A  DEQ034C  DEQ03...</td>\n",
       "      <td>SEQN  DED031  DEQ034A  DEQ034C  DEQ03...</td>\n",
       "      <td>SEQN  DED031  DEQ034A  DEQ034C  DEQ03...</td>\n",
       "    </tr>\n",
       "    <tr>\n",
       "      <th>Kidney and Urologic Conditions</th>\n",
       "      <td>SEQN  KIQ022  KIQ025  KIQ026  KID028 ...</td>\n",
       "      <td>SEQN  KIQ022  KIQ025  KIQ026  KID028 ...</td>\n",
       "      <td>SEQN  KIQ022  KIQ025  KIQ026  KID028 ...</td>\n",
       "    </tr>\n",
       "    <tr>\n",
       "      <th>Oral Health</th>\n",
       "      <td>SEQN  OHQ030  OHQ033  OHQ770  OHQ780A...</td>\n",
       "      <td>SEQN  OHQ030  OHQ033  OHQ770  OHQ780A...</td>\n",
       "      <td>SEQN  OHQ835  OHQ845  OHQ850  OHQ855 ...</td>\n",
       "    </tr>\n",
       "    <tr>\n",
       "      <th>DEMO</th>\n",
       "      <td>SEQN  SDDSRVYR  RIDSTATR  RIAGENDR  R...</td>\n",
       "      <td>SEQN  SDDSRVYR  RIDSTATR  RIAGENDR  ...</td>\n",
       "      <td>SEQN  SDDSRVYR  RIDSTATR  RIDEXMON  ...</td>\n",
       "    </tr>\n",
       "    <tr>\n",
       "      <th>Food Security</th>\n",
       "      <td>SEQN  FSD032A  FSD032B  FSD032C  FSD0...</td>\n",
       "      <td>SEQN  FSD032A  FSD032B  FSD032C  FSD...</td>\n",
       "      <td>SEQN  FSD032A  FSD032B  FSD032C  FSD...</td>\n",
       "    </tr>\n",
       "    <tr>\n",
       "      <th>Pesticide Use</th>\n",
       "      <td>SEQN  PUQ100  PUQ110\n",
       "0     62161.0   ...</td>\n",
       "      <td>SEQN  PUQ100  PUQ110\n",
       "0     73557.0   ...</td>\n",
       "      <td>SEQN  PUQ100  PUQ110\n",
       "0     51624.0   ...</td>\n",
       "    </tr>\n",
       "    <tr>\n",
       "      <th>Health Insurance</th>\n",
       "      <td>SEQN  HIQ011  HIQ031A  HIQ031B  HIQ03...</td>\n",
       "      <td>SEQN  HIQ011  HIQ031A  HIQ031B  HIQ0...</td>\n",
       "      <td>SEQN  HIQ011  HIQ031A  HIQ031B  HIQ0...</td>\n",
       "    </tr>\n",
       "    <tr>\n",
       "      <th>Sexual Behavior</th>\n",
       "      <td>SEQN  SXD021  SXQ800  SXQ803  SXQ806 ...</td>\n",
       "      <td>SEQN  SXD021  SXQ800  SXQ803  SXQ806 ...</td>\n",
       "      <td>SEQN  SXD021  SXQ800  SXQ803  SXQ806 ...</td>\n",
       "    </tr>\n",
       "    <tr>\n",
       "      <th>Physical Activity</th>\n",
       "      <td>SEQN  PAQ706  PAQ605  PAQ610  PAD615 ...</td>\n",
       "      <td>SEQN  PAQ605  PAQ610  PAD615  PAQ620 ...</td>\n",
       "      <td>SEQN  PAQ706  PAD590  PAD600  PAQ605 ...</td>\n",
       "    </tr>\n",
       "    <tr>\n",
       "      <th>Hospital Utilization</th>\n",
       "      <td>SEQN  HUQ010  HUQ020  HUQ030  HUQ040 ...</td>\n",
       "      <td>SEQN  HUQ010  HUQ020  HUQ030  HUQ041...</td>\n",
       "      <td>SEQN  HUQ010  HUQ020  HUQ030  HUQ040...</td>\n",
       "    </tr>\n",
       "  </tbody>\n",
       "</table>\n",
       "</div>"
      ],
      "text/plain": [
       "                                                                        2011_2012  \\\n",
       "Consumer Behavior                        SEQN  CBD070  CBD090  CBD110    CBD12...   \n",
       "Immunization                             SEQN  IMQ011  IMQ020  IMQ040  IMQ070 ...   \n",
       "Prescription Medication                   SEQN  RXDUSE                 RXDDRUG...   \n",
       "Drug Use                                 SEQN  DUQ200  DUQ210  DUQ211  DUQ213 ...   \n",
       "Physical Function                        SEQN  PFQ020  PFQ030  PFQ041  PFQ049 ...   \n",
       "Smoking - Cigarette Use                  SEQN  SMQ020  SMD030  SMQ040  SMQ050Q...   \n",
       "Weight History                           SEQN  WHD010  WHD020  WHQ030  WHQ040 ...   \n",
       "Current Health Status                    SEQN  HSD010  HSQ470  HSQ480  HSQ490 ...   \n",
       "Housing Characteristics                  SEQN  HOD050  HOQ065\n",
       "0     62161.0   ...   \n",
       "Volatile Toxicant                        SEQN       WTSVOC2Y  VTQ210  VTQ220  ...   \n",
       "Early Childhood                          SEQN  ECD010  ECQ020  ECD070A  ECD070...   \n",
       "Alcohol Use                              SEQN  ALQ101  ALQ110  ALQ120Q  ALQ120...   \n",
       "Diabetes                                 SEQN  DIQ010  DID040  DIQ160  DIQ170 ...   \n",
       "Sleep Disorders                          SEQN  SLD010H  SLQ050  SLQ060\n",
       "0     6...   \n",
       "Medical Conditions                       SEQN  MCQ010  MCQ025  MCQ035  MCQ040 ...   \n",
       "Dermatology                              SEQN  DED031  DEQ034A  DEQ034C  DEQ03...   \n",
       "Kidney and Urologic Conditions           SEQN  KIQ022  KIQ025  KIQ026  KID028 ...   \n",
       "Oral Health                              SEQN  OHQ030  OHQ033  OHQ770  OHQ780A...   \n",
       "DEMO                                     SEQN  SDDSRVYR  RIDSTATR  RIAGENDR  R...   \n",
       "Food Security                            SEQN  FSD032A  FSD032B  FSD032C  FSD0...   \n",
       "Pesticide Use                            SEQN  PUQ100  PUQ110\n",
       "0     62161.0   ...   \n",
       "Health Insurance                         SEQN  HIQ011  HIQ031A  HIQ031B  HIQ03...   \n",
       "Sexual Behavior                          SEQN  SXD021  SXQ800  SXQ803  SXQ806 ...   \n",
       "Physical Activity                        SEQN  PAQ706  PAQ605  PAQ610  PAD615 ...   \n",
       "Hospital Utilization                     SEQN  HUQ010  HUQ020  HUQ030  HUQ040 ...   \n",
       "\n",
       "                                                                        2013_2014  \\\n",
       "Consumer Behavior                         SEQN  CBD070  CBD090  CBD110  CBD120...   \n",
       "Immunization                              SEQN  IMQ011  IMQ020  IMQ040  IMQ070...   \n",
       "Prescription Medication                   SEQN  RXDUSE           RXDDRUG RXDDR...   \n",
       "Drug Use                                 SEQN  DUQ200  DUQ210  DUQ211  DUQ213 ...   \n",
       "Physical Function                        SEQN  PFQ020  PFQ030  PFQ033  PFQ041 ...   \n",
       "Smoking - Cigarette Use                  SEQN  SMQ020  SMD030  SMQ040  SMQ050Q...   \n",
       "Weight History                           SEQN  WHD010  WHD020  WHQ030  WHQ040 ...   \n",
       "Current Health Status                    SEQN  HSD010  HSQ500  HSQ510  HSQ520 ...   \n",
       "Housing Characteristics                   SEQN  HOD050  HOQ065\n",
       "0      73557.0 ...   \n",
       "Volatile Toxicant                        SEQN       WTSVOC2Y  VTQ210  VTQ220  ...   \n",
       "Early Childhood                          SEQN  ECD010  ECQ020  ECD070A  ECD070...   \n",
       "Alcohol Use                              SEQN  ALQ101  ALQ110  ALQ120Q  ALQ120...   \n",
       "Diabetes                                 SEQN  DIQ010  DID040  DIQ160  DIQ170 ...   \n",
       "Sleep Disorders                          SEQN  SLD010H  SLQ050  SLQ060\n",
       "0     7...   \n",
       "Medical Conditions                       SEQN  MCQ010  MCQ025  MCQ035  MCQ040 ...   \n",
       "Dermatology                              SEQN  DED031  DEQ034A  DEQ034C  DEQ03...   \n",
       "Kidney and Urologic Conditions           SEQN  KIQ022  KIQ025  KIQ026  KID028 ...   \n",
       "Oral Health                              SEQN  OHQ030  OHQ033  OHQ770  OHQ780A...   \n",
       "DEMO                                      SEQN  SDDSRVYR  RIDSTATR  RIAGENDR  ...   \n",
       "Food Security                             SEQN  FSD032A  FSD032B  FSD032C  FSD...   \n",
       "Pesticide Use                            SEQN  PUQ100  PUQ110\n",
       "0     73557.0   ...   \n",
       "Health Insurance                          SEQN  HIQ011  HIQ031A  HIQ031B  HIQ0...   \n",
       "Sexual Behavior                          SEQN  SXD021  SXQ800  SXQ803  SXQ806 ...   \n",
       "Physical Activity                        SEQN  PAQ605  PAQ610  PAD615  PAQ620 ...   \n",
       "Hospital Utilization                      SEQN  HUQ010  HUQ020  HUQ030  HUQ041...   \n",
       "\n",
       "                                                                        2009_2010  \n",
       "Consumer Behavior                         SEQN  CBD010  CBQ020  CBQ030  CBQ040...  \n",
       "Immunization                              SEQN  IMQ011  IMQ020  IMQ040  IMQ045...  \n",
       "Prescription Medication                   SEQN  RXDUSE                 RXDDRUG...  \n",
       "Drug Use                                 SEQN  DUQ200  DUQ210  DUQ211  DUQ213 ...  \n",
       "Physical Function                        SEQN  PFQ020  PFQ030  PFQ041  PFQ049 ...  \n",
       "Smoking - Cigarette Use                  SEQN  SMQ020  SMD030  SMQ040  SMQ050Q...  \n",
       "Weight History                           SEQN  WHD010  WHD020  WHQ030  WHQ040 ...  \n",
       "Current Health Status                    SEQN  HSD010  HSQ470  HSQ480  HSQ490 ...  \n",
       "Housing Characteristics                   SEQN  HOQ040  HOD050  HOD060  HOQ065...  \n",
       "Volatile Toxicant                        SEQN       WTSVOC2Y  VTQ210  VTQ220  ...  \n",
       "Early Childhood                          SEQN  ECD010  ECQ020  ECD070A  ECD070...  \n",
       "Alcohol Use                              SEQN  ALQ101  ALQ110  ALQ120Q  ALQ120...  \n",
       "Diabetes                                  SEQN  DIQ010  DID040  DIQ160  DIQ170...  \n",
       "Sleep Disorders                          SEQN  SLD010H  SLQ050  SLQ060\n",
       "0     5...  \n",
       "Medical Conditions                        SEQN  MCQ010  MCQ025  MCQ035  MCQ040...  \n",
       "Dermatology                              SEQN  DED031  DEQ034A  DEQ034C  DEQ03...  \n",
       "Kidney and Urologic Conditions           SEQN  KIQ022  KIQ025  KIQ026  KID028 ...  \n",
       "Oral Health                              SEQN  OHQ835  OHQ845  OHQ850  OHQ855 ...  \n",
       "DEMO                                      SEQN  SDDSRVYR  RIDSTATR  RIDEXMON  ...  \n",
       "Food Security                             SEQN  FSD032A  FSD032B  FSD032C  FSD...  \n",
       "Pesticide Use                            SEQN  PUQ100  PUQ110\n",
       "0     51624.0   ...  \n",
       "Health Insurance                          SEQN  HIQ011  HIQ031A  HIQ031B  HIQ0...  \n",
       "Sexual Behavior                          SEQN  SXD021  SXQ800  SXQ803  SXQ806 ...  \n",
       "Physical Activity                        SEQN  PAQ706  PAD590  PAD600  PAQ605 ...  \n",
       "Hospital Utilization                      SEQN  HUQ010  HUQ020  HUQ030  HUQ040...  "
      ]
     },
     "execution_count": 7,
     "metadata": {},
     "output_type": "execute_result"
    }
   ],
   "source": [
    "pd.DataFrame(data) #To view variables in a clear fashion"
   ]
  },
  {
   "cell_type": "code",
   "execution_count": 8,
   "id": "5e886b1b-81f7-49ed-af24-d04cdd56a36e",
   "metadata": {},
   "outputs": [
    {
     "data": {
      "text/plain": [
       "0       2.0\n",
       "1       2.0\n",
       "2       2.0\n",
       "3       1.0\n",
       "4       1.0\n",
       "       ... \n",
       "9751    1.0\n",
       "9752    2.0\n",
       "9753    2.0\n",
       "9754    4.0\n",
       "9755    0.0\n",
       "Name: HUQ050, Length: 9756, dtype: float64"
      ]
     },
     "execution_count": 8,
     "metadata": {},
     "output_type": "execute_result"
    }
   ],
   "source": [
    " hospital_09 = []  #This would be the Y variable aka what we are trying to predict. the number healthcare visits \n",
    "    \n",
    "for i in data:\n",
    "    if i =='2009_2010':\n",
    "        hospital_09=data[i]['Hospital Utilization']['HUQ050']\n",
    "\n",
    "hospital_11 = []\n",
    "for i in data:\n",
    "    if i =='2011_2012':\n",
    "        hospital_11=data[i]['Hospital Utilization']['HUQ050']\n",
    "\n",
    "hospital_13 = []\n",
    "for i in data:\n",
    "    if i =='2013_2014':\n",
    "        hospital_13=data[i]['Hospital Utilization']['HUQ051']\n",
    "        \n",
    "Y2009 = hospital_09\n",
    "Y2011 = hospital_11\n",
    "Y2013 = hospital_13\n",
    "\n",
    "\n",
    "hospital_11\n"
   ]
  },
  {
   "cell_type": "code",
   "execution_count": 9,
   "id": "d5915f01-86cd-4811-b00e-feb3cd8de1e4",
   "metadata": {},
   "outputs": [
    {
     "data": {
      "text/plain": [
       "0       999999.0\n",
       "1           50.0\n",
       "2           75.0\n",
       "3          100.0\n",
       "4           30.0\n",
       "          ...   \n",
       "9751        64.0\n",
       "9752        20.0\n",
       "9753       120.0\n",
       "9754       150.0\n",
       "9755         0.0\n",
       "Name: CBD120, Length: 9756, dtype: float64"
      ]
     },
     "execution_count": 9,
     "metadata": {},
     "output_type": "execute_result"
    }
   ],
   "source": [
    "eatingout2009 = [] #Money spent on eating out\n",
    "\n",
    "for i in data: \n",
    "    if i == '2009_2010':\n",
    "        eatingout2009= data[i]['Consumer Behavior']['CBD120']\n",
    "\n",
    "eatingout2011 = []\n",
    "\n",
    "for i in data: \n",
    "    if i == '2011_2012':\n",
    "        eatingout2011= data[i]['Consumer Behavior']['CBD120']\n",
    "\n",
    "eatingout2013 = []\n",
    "\n",
    "for i in data: \n",
    "    if i == '2013_2014':\n",
    "        eatingout2013= data[i]['Consumer Behavior']['CBD120']\n",
    "\n",
    "eatingout2009\n",
    "\n",
    "\n",
    "\n",
    "eatingout2013\n",
    "\n",
    "eatingout2011\n"
   ]
  },
  {
   "cell_type": "code",
   "execution_count": 10,
   "id": "02b9dfd1-1cdb-495e-9057-f519ba9e9516",
   "metadata": {},
   "outputs": [
    {
     "data": {
      "text/plain": [
       "0       NaN\n",
       "1       NaN\n",
       "2       1.0\n",
       "3       2.0\n",
       "4       0.0\n",
       "       ... \n",
       "5610    NaN\n",
       "5611    4.0\n",
       "5612    2.0\n",
       "5613    NaN\n",
       "5614    0.0\n",
       "Name: ALQ120Q, Length: 5615, dtype: float64"
      ]
     },
     "execution_count": 10,
     "metadata": {},
     "output_type": "execute_result"
    }
   ],
   "source": [
    "alcohol2009 = []   #How often drink alcohol over past 12 mos\n",
    "\n",
    "for i in data: \n",
    "    if i == '2009_2010':\n",
    "        alcohol2009= data[i]['Alcohol Use']['ALQ120Q']\n",
    "\n",
    "alcohol2011 = []\n",
    "\n",
    "for i in data:\n",
    "    if i == '2011_2012':\n",
    "        alcohol2011=data[i]['Alcohol Use']['ALQ120Q']\n",
    "\n",
    "\n",
    "alcohol2013 = []\n",
    "\n",
    "for i in data:\n",
    "    if i == '2013_2014':\n",
    "        alcohol2013=data[i]['Alcohol Use']['ALQ120Q']\n",
    "\n",
    "\n",
    "alcohol2009\n",
    "       \n",
    "alcohol2013        \n",
    "alcohol2011 "
   ]
  },
  {
   "cell_type": "code",
   "execution_count": 11,
   "id": "734448f2-5941-4d47-83f1-ddab0bc199de",
   "metadata": {},
   "outputs": [
    {
     "data": {
      "text/plain": [
       "0       3.0\n",
       "1       NaN\n",
       "2       3.0\n",
       "3       NaN\n",
       "4       4.0\n",
       "       ... \n",
       "8951    2.0\n",
       "8952    2.0\n",
       "8953    NaN\n",
       "8954    3.0\n",
       "8955    2.0\n",
       "Name: HSD010, Length: 8956, dtype: float64"
      ]
     },
     "execution_count": 11,
     "metadata": {},
     "output_type": "execute_result"
    }
   ],
   "source": [
    "health2009 = []  #General health condition rated 1-5 \n",
    "\n",
    "for i in data: \n",
    "    if i == '2009_2010':\n",
    "         health2009= data[i]['Current Health Status']['HSD010']\n",
    "\n",
    "health2011 = []\n",
    "\n",
    "for i in data:\n",
    "    if i == '2011_2012':\n",
    "        health2011=data[i]['Current Health Status']['HSD010']\n",
    "\n",
    "\n",
    "health2013 = []\n",
    "\n",
    "for i in data:\n",
    "    if i == '2013_2014':\n",
    "        health2013=data[i]['Current Health Status']['HSD010']\n",
    "\n",
    "health2009\n",
    "\n",
    "health2013\n",
    "health2011"
   ]
  },
  {
   "cell_type": "code",
   "execution_count": 12,
   "id": "80309b0c-fc7f-4994-b45a-5835fd2dda34",
   "metadata": {},
   "outputs": [
    {
     "data": {
      "text/plain": [
       "0       NaN\n",
       "1       7.0\n",
       "2       NaN\n",
       "3       NaN\n",
       "4       NaN\n",
       "       ... \n",
       "9102    NaN\n",
       "9103    NaN\n",
       "9104    7.0\n",
       "9105    NaN\n",
       "9106    NaN\n",
       "Name: PAQ706, Length: 9107, dtype: float64"
      ]
     },
     "execution_count": 12,
     "metadata": {},
     "output_type": "execute_result"
    }
   ],
   "source": [
    "active2009 = []   #Days physically active at least 60 min\n",
    "\n",
    "for i in data: \n",
    "    if i == '2009_2010':\n",
    "         active2009= data[i]['Physical Activity']['PAQ706']\n",
    "\n",
    "active2011 = []\n",
    "\n",
    "for i in data:\n",
    "    if i == '2011_2012':\n",
    "        active2011=data[i]['Physical Activity']['PAQ706']\n",
    "\n",
    "\n",
    "active2013 = []\n",
    "\n",
    "for i in data:\n",
    "    if i == '2013_2014':\n",
    "        active2013=data[i]['Physical Activity']['PAQ706']\n",
    "\n",
    "active2009\n",
    "\n",
    "active2013\n",
    "active2011"
   ]
  },
  {
   "cell_type": "code",
   "execution_count": 13,
   "id": "581edfac-cdef-4337-abcd-94778e888fa7",
   "metadata": {},
   "outputs": [
    {
     "data": {
      "text/plain": [
       "0       300.0\n",
       "1         NaN\n",
       "2       720.0\n",
       "3       300.0\n",
       "4       600.0\n",
       "        ...  \n",
       "9102    720.0\n",
       "9103    600.0\n",
       "9104      NaN\n",
       "9105    480.0\n",
       "9106    660.0\n",
       "Name: PAD680, Length: 9107, dtype: float64"
      ]
     },
     "execution_count": 13,
     "metadata": {},
     "output_type": "execute_result"
    }
   ],
   "source": [
    "sedentary2009 = []   #Minutes sedentary activity\n",
    "\n",
    "for i in data: \n",
    "    if i == '2009_2010':\n",
    "         sedentary2009= data[i]['Physical Activity']['PAD680']\n",
    "\n",
    "sedentary2011 = []\n",
    "\n",
    "for i in data:\n",
    "    if i == '2011_2012':\n",
    "        sedentary2011=data[i]['Physical Activity']['PAD680']\n",
    "\n",
    "\n",
    "sedentary2013 = []\n",
    "\n",
    "for i in data:\n",
    "    if i == '2013_2014':\n",
    "         sedentary2013=data[i]['Physical Activity']['PAD680']\n",
    "\n",
    "sedentary2009\n",
    "\n",
    "sedentary2013\n",
    "sedentary2011"
   ]
  },
  {
   "cell_type": "code",
   "execution_count": 14,
   "id": "daee8ace-618d-4a85-b6dc-1095a920c1fe",
   "metadata": {},
   "outputs": [
    {
     "data": {
      "text/plain": [
       "0       2.0\n",
       "1       2.0\n",
       "2       2.0\n",
       "3       2.0\n",
       "4       2.0\n",
       "       ... \n",
       "9359    2.0\n",
       "9360    2.0\n",
       "9361    2.0\n",
       "9362    1.0\n",
       "9363    2.0\n",
       "Name: DIQ010, Length: 9364, dtype: float64"
      ]
     },
     "execution_count": 14,
     "metadata": {},
     "output_type": "execute_result"
    }
   ],
   "source": [
    "diabetes2009 = []   #Doctor told you have diabetes\n",
    "\n",
    "for i in data:\n",
    "    if i=='2009_2010':\n",
    "        diabetes2009=data[i]['Diabetes']['DIQ010']\n",
    "\n",
    "diabetes2011 = []        \n",
    "        \n",
    "for i in data:\n",
    "    if i=='2011_2012':\n",
    "        diabetes2011=data[i]['Diabetes']['DIQ010']        \n",
    "        \n",
    "diabetes2013 = []\n",
    "\n",
    "for i in data:\n",
    "    if i=='2013_2014':\n",
    "        diabetes2013=data[i]['Diabetes']['DIQ010']\n",
    "\n",
    "diabetes2009\n",
    "\n",
    "diabetes2013\n",
    "diabetes2011"
   ]
  },
  {
   "cell_type": "code",
   "execution_count": 15,
   "id": "f9d615ad-39ab-43c7-9df4-f32e756d1286",
   "metadata": {},
   "outputs": [
    {
     "data": {
      "text/plain": [
       "0       2.0\n",
       "1       2.0\n",
       "2       2.0\n",
       "3       2.0\n",
       "4       2.0\n",
       "       ... \n",
       "5555    2.0\n",
       "5556    2.0\n",
       "5557    2.0\n",
       "5558    2.0\n",
       "5559    2.0\n",
       "Name: KIQ022, Length: 5560, dtype: float64"
      ]
     },
     "execution_count": 15,
     "metadata": {},
     "output_type": "execute_result"
    }
   ],
   "source": [
    "kidney2009 = []   #Doctor told you have weak Kidneys\n",
    "\n",
    "for i in data:\n",
    "    if i=='2009_2010':\n",
    "        kidney2009=data[i]['Kidney and Urologic Conditions']['KIQ022']\n",
    "\n",
    "kidney2011 = []        \n",
    "        \n",
    "for i in data:\n",
    "    if i=='2011_2012':\n",
    "         kidney2011=data[i]['Kidney and Urologic Conditions']['KIQ022']       \n",
    "        \n",
    "kidney2013 = []\n",
    "\n",
    "for i in data:\n",
    "    if i=='2013_2014':\n",
    "        kidney2013=data[i]['Kidney and Urologic Conditions']['KIQ022']\n",
    "\n",
    "kidney2013\n",
    "kidney2009\n",
    "kidney2011"
   ]
  },
  {
   "cell_type": "code",
   "execution_count": 16,
   "id": "bcccb750-b0c8-4e57-b175-dba29df3afc1",
   "metadata": {},
   "outputs": [
    {
     "data": {
      "text/plain": [
       "0       NaN\n",
       "1       NaN\n",
       "2       NaN\n",
       "3       3.0\n",
       "4       2.0\n",
       "       ... \n",
       "4791    NaN\n",
       "4792    5.0\n",
       "4793    NaN\n",
       "4794    NaN\n",
       "4795    NaN\n",
       "Name: SXQ251, Length: 4796, dtype: float64"
      ]
     },
     "execution_count": 16,
     "metadata": {},
     "output_type": "execute_result"
    }
   ],
   "source": [
    "protection2009 = []   ## times had sex without condom/year\n",
    "\n",
    "for i in data:\n",
    "    if i=='2009_2010':\n",
    "        protection2009=data[i]['Sexual Behavior']['SXQ251']\n",
    "\n",
    "protection2011 = []        \n",
    "        \n",
    "for i in data:\n",
    "    if i=='2011_2012':\n",
    "         protection2011=data[i]['Sexual Behavior']['SXQ251']       \n",
    "        \n",
    "protection2013 = []\n",
    "\n",
    "for i in data:\n",
    "    if i=='2013_2014':\n",
    "        protection2013=data[i]['Sexual Behavior']['SXQ251']\n",
    "\n",
    "protection2009\n",
    "\n",
    "protection2013\n",
    "protection2011\n"
   ]
  },
  {
   "cell_type": "code",
   "execution_count": 17,
   "id": "6510b7f9-1c97-4f96-914b-de5cfcc2eeaa",
   "metadata": {},
   "outputs": [
    {
     "data": {
      "text/plain": [
       "0       8.0\n",
       "1       8.0\n",
       "2       8.0\n",
       "3       8.0\n",
       "4       9.0\n",
       "       ... \n",
       "6170    6.0\n",
       "6171    8.0\n",
       "6172    9.0\n",
       "6173    6.0\n",
       "6174    8.0\n",
       "Name: SLD010H, Length: 6175, dtype: float64"
      ]
     },
     "execution_count": 17,
     "metadata": {},
     "output_type": "execute_result"
    }
   ],
   "source": [
    "sleep2009 = []   #How much sleep do you get (hours)?\n",
    "\n",
    "for i in data:\n",
    "    if i=='2009_2010':\n",
    "        sleep2009=data[i]['Sleep Disorders']['SLD010H']\n",
    "\n",
    "sleep2011 = []        \n",
    "        \n",
    "for i in data:\n",
    "    if i=='2011_2012':\n",
    "         sleep2011=data[i]['Sleep Disorders']['SLD010H']       \n",
    "        \n",
    "sleep2013 = []\n",
    "\n",
    "for i in data:\n",
    "    if i=='2013_2014':\n",
    "        sleep2013=data[i]['Sleep Disorders']['SLD010H']\n",
    "\n",
    "sleep2009\n",
    "\n",
    "sleep2013\n",
    "sleep2011"
   ]
  },
  {
   "cell_type": "code",
   "execution_count": 18,
   "id": "1e10f1f6-521e-4805-937f-11fad6c5b2c5",
   "metadata": {},
   "outputs": [
    {
     "data": {
      "text/plain": [
       "0       150.0\n",
       "1       139.0\n",
       "2       120.0\n",
       "3       203.0\n",
       "4       211.0\n",
       "        ...  \n",
       "6170    215.0\n",
       "6171    190.0\n",
       "6172    122.0\n",
       "6173    175.0\n",
       "6174    110.0\n",
       "Name: WHD020, Length: 6175, dtype: float64"
      ]
     },
     "execution_count": 18,
     "metadata": {},
     "output_type": "execute_result"
    }
   ],
   "source": [
    "weight2009 = []   #Self-reported weight - 1 yr ago (pounds)\n",
    "\n",
    "for i in data:\n",
    "    if i=='2009_2010':\n",
    "        weight2009=data[i]['Weight History']['WHD020']\n",
    "\n",
    "weight2011 = []        \n",
    "        \n",
    "for i in data:\n",
    "    if i=='2011_2012':\n",
    "         weight2011=data[i]['Weight History']['WHD020']       \n",
    "        \n",
    "weight2013 = []\n",
    "\n",
    "for i in data:\n",
    "    if i=='2013_2014':\n",
    "        weight2013=data[i]['Weight History']['WHD020'] \n",
    "\n",
    "weight2009\n",
    "\n",
    "weight2013\n",
    "\n",
    "weight2011"
   ]
  },
  {
   "cell_type": "code",
   "execution_count": 19,
   "id": "826b5ddd-5638-4573-bef5-dd5b77174fce",
   "metadata": {},
   "outputs": [],
   "source": [
    "Column_names = ['weight', 'sleep', 'protection', 'kidney', 'diabetes', 'sedentary', 'active', 'health', 'alcohol', 'eatingout', 'hospital']"
   ]
  },
  {
   "cell_type": "code",
   "execution_count": 20,
   "id": "bb05f996-f764-4c34-8d97-4c4ed0174b44",
   "metadata": {},
   "outputs": [],
   "source": [
    "dataframe2009_2010 = pd.concat([weight2009,sleep2009,protection2009,kidney2009,diabetes2009,sedentary2009,active2009,health2009,alcohol2009,eatingout2009,hospital_09], axis=1) #Pre-Cleaning 2009_2010 dataframe\n",
    "\n",
    "dataframe2011_2012 = pd.concat([weight2011,sleep2011,protection2011,kidney2011,diabetes2011,sedentary2011,active2011,health2011,alcohol2011,eatingout2011,hospital_11], axis=1) #Pre-Cleaning 2011_2012 dataframe\n",
    "\n",
    "dataframe2013_2014 = pd.concat([weight2013,sleep2013,protection2013,kidney2013,diabetes2013,sedentary2013,active2013,health2013,alcohol2013, eatingout2013,hospital_13], axis=1) #Pre-Cleaning 2013_2014 dataframe\n"
   ]
  },
  {
   "cell_type": "code",
   "execution_count": 21,
   "id": "ff154649-cb97-483b-98e0-02cf6385c172",
   "metadata": {},
   "outputs": [],
   "source": [
    "dataframe2009_2010.columns = Column_names\n",
    "dataframe2011_2012.columns = Column_names\n",
    "dataframe2013_2014.columns = Column_names"
   ]
  },
  {
   "cell_type": "code",
   "execution_count": 22,
   "id": "b6f623b2-59b1-40e4-ba26-9c546cc92ac4",
   "metadata": {},
   "outputs": [
    {
     "data": {
      "text/html": [
       "<div>\n",
       "<style scoped>\n",
       "    .dataframe tbody tr th:only-of-type {\n",
       "        vertical-align: middle;\n",
       "    }\n",
       "\n",
       "    .dataframe tbody tr th {\n",
       "        vertical-align: top;\n",
       "    }\n",
       "\n",
       "    .dataframe thead th {\n",
       "        text-align: right;\n",
       "    }\n",
       "</style>\n",
       "<table border=\"1\" class=\"dataframe\">\n",
       "  <thead>\n",
       "    <tr style=\"text-align: right;\">\n",
       "      <th></th>\n",
       "      <th>weight</th>\n",
       "      <th>sleep</th>\n",
       "      <th>protection</th>\n",
       "      <th>kidney</th>\n",
       "      <th>diabetes</th>\n",
       "      <th>sedentary</th>\n",
       "      <th>active</th>\n",
       "      <th>health</th>\n",
       "      <th>alcohol</th>\n",
       "      <th>eatingout</th>\n",
       "      <th>hospital</th>\n",
       "    </tr>\n",
       "  </thead>\n",
       "  <tbody>\n",
       "    <tr>\n",
       "      <th>0</th>\n",
       "      <td>150.0</td>\n",
       "      <td>8.0</td>\n",
       "      <td>NaN</td>\n",
       "      <td>2.0</td>\n",
       "      <td>2.0</td>\n",
       "      <td>300.0</td>\n",
       "      <td>NaN</td>\n",
       "      <td>3.0</td>\n",
       "      <td>NaN</td>\n",
       "      <td>999999.0</td>\n",
       "      <td>2.0</td>\n",
       "    </tr>\n",
       "    <tr>\n",
       "      <th>1</th>\n",
       "      <td>139.0</td>\n",
       "      <td>8.0</td>\n",
       "      <td>NaN</td>\n",
       "      <td>2.0</td>\n",
       "      <td>2.0</td>\n",
       "      <td>NaN</td>\n",
       "      <td>7.0</td>\n",
       "      <td>NaN</td>\n",
       "      <td>NaN</td>\n",
       "      <td>50.0</td>\n",
       "      <td>2.0</td>\n",
       "    </tr>\n",
       "    <tr>\n",
       "      <th>2</th>\n",
       "      <td>120.0</td>\n",
       "      <td>8.0</td>\n",
       "      <td>NaN</td>\n",
       "      <td>2.0</td>\n",
       "      <td>2.0</td>\n",
       "      <td>720.0</td>\n",
       "      <td>NaN</td>\n",
       "      <td>3.0</td>\n",
       "      <td>1.0</td>\n",
       "      <td>75.0</td>\n",
       "      <td>2.0</td>\n",
       "    </tr>\n",
       "    <tr>\n",
       "      <th>3</th>\n",
       "      <td>203.0</td>\n",
       "      <td>8.0</td>\n",
       "      <td>3.0</td>\n",
       "      <td>2.0</td>\n",
       "      <td>2.0</td>\n",
       "      <td>300.0</td>\n",
       "      <td>NaN</td>\n",
       "      <td>NaN</td>\n",
       "      <td>2.0</td>\n",
       "      <td>100.0</td>\n",
       "      <td>1.0</td>\n",
       "    </tr>\n",
       "    <tr>\n",
       "      <th>4</th>\n",
       "      <td>211.0</td>\n",
       "      <td>9.0</td>\n",
       "      <td>2.0</td>\n",
       "      <td>2.0</td>\n",
       "      <td>2.0</td>\n",
       "      <td>600.0</td>\n",
       "      <td>NaN</td>\n",
       "      <td>4.0</td>\n",
       "      <td>0.0</td>\n",
       "      <td>30.0</td>\n",
       "      <td>1.0</td>\n",
       "    </tr>\n",
       "    <tr>\n",
       "      <th>...</th>\n",
       "      <td>...</td>\n",
       "      <td>...</td>\n",
       "      <td>...</td>\n",
       "      <td>...</td>\n",
       "      <td>...</td>\n",
       "      <td>...</td>\n",
       "      <td>...</td>\n",
       "      <td>...</td>\n",
       "      <td>...</td>\n",
       "      <td>...</td>\n",
       "      <td>...</td>\n",
       "    </tr>\n",
       "    <tr>\n",
       "      <th>9751</th>\n",
       "      <td>NaN</td>\n",
       "      <td>NaN</td>\n",
       "      <td>NaN</td>\n",
       "      <td>NaN</td>\n",
       "      <td>NaN</td>\n",
       "      <td>NaN</td>\n",
       "      <td>NaN</td>\n",
       "      <td>NaN</td>\n",
       "      <td>NaN</td>\n",
       "      <td>64.0</td>\n",
       "      <td>1.0</td>\n",
       "    </tr>\n",
       "    <tr>\n",
       "      <th>9752</th>\n",
       "      <td>NaN</td>\n",
       "      <td>NaN</td>\n",
       "      <td>NaN</td>\n",
       "      <td>NaN</td>\n",
       "      <td>NaN</td>\n",
       "      <td>NaN</td>\n",
       "      <td>NaN</td>\n",
       "      <td>NaN</td>\n",
       "      <td>NaN</td>\n",
       "      <td>20.0</td>\n",
       "      <td>2.0</td>\n",
       "    </tr>\n",
       "    <tr>\n",
       "      <th>9753</th>\n",
       "      <td>NaN</td>\n",
       "      <td>NaN</td>\n",
       "      <td>NaN</td>\n",
       "      <td>NaN</td>\n",
       "      <td>NaN</td>\n",
       "      <td>NaN</td>\n",
       "      <td>NaN</td>\n",
       "      <td>NaN</td>\n",
       "      <td>NaN</td>\n",
       "      <td>120.0</td>\n",
       "      <td>2.0</td>\n",
       "    </tr>\n",
       "    <tr>\n",
       "      <th>9754</th>\n",
       "      <td>NaN</td>\n",
       "      <td>NaN</td>\n",
       "      <td>NaN</td>\n",
       "      <td>NaN</td>\n",
       "      <td>NaN</td>\n",
       "      <td>NaN</td>\n",
       "      <td>NaN</td>\n",
       "      <td>NaN</td>\n",
       "      <td>NaN</td>\n",
       "      <td>150.0</td>\n",
       "      <td>4.0</td>\n",
       "    </tr>\n",
       "    <tr>\n",
       "      <th>9755</th>\n",
       "      <td>NaN</td>\n",
       "      <td>NaN</td>\n",
       "      <td>NaN</td>\n",
       "      <td>NaN</td>\n",
       "      <td>NaN</td>\n",
       "      <td>NaN</td>\n",
       "      <td>NaN</td>\n",
       "      <td>NaN</td>\n",
       "      <td>NaN</td>\n",
       "      <td>0.0</td>\n",
       "      <td>0.0</td>\n",
       "    </tr>\n",
       "  </tbody>\n",
       "</table>\n",
       "<p>9756 rows × 11 columns</p>\n",
       "</div>"
      ],
      "text/plain": [
       "      weight  sleep  protection  kidney  diabetes  sedentary  active  health  \\\n",
       "0      150.0    8.0         NaN     2.0       2.0      300.0     NaN     3.0   \n",
       "1      139.0    8.0         NaN     2.0       2.0        NaN     7.0     NaN   \n",
       "2      120.0    8.0         NaN     2.0       2.0      720.0     NaN     3.0   \n",
       "3      203.0    8.0         3.0     2.0       2.0      300.0     NaN     NaN   \n",
       "4      211.0    9.0         2.0     2.0       2.0      600.0     NaN     4.0   \n",
       "...      ...    ...         ...     ...       ...        ...     ...     ...   \n",
       "9751     NaN    NaN         NaN     NaN       NaN        NaN     NaN     NaN   \n",
       "9752     NaN    NaN         NaN     NaN       NaN        NaN     NaN     NaN   \n",
       "9753     NaN    NaN         NaN     NaN       NaN        NaN     NaN     NaN   \n",
       "9754     NaN    NaN         NaN     NaN       NaN        NaN     NaN     NaN   \n",
       "9755     NaN    NaN         NaN     NaN       NaN        NaN     NaN     NaN   \n",
       "\n",
       "      alcohol  eatingout  hospital  \n",
       "0         NaN   999999.0       2.0  \n",
       "1         NaN       50.0       2.0  \n",
       "2         1.0       75.0       2.0  \n",
       "3         2.0      100.0       1.0  \n",
       "4         0.0       30.0       1.0  \n",
       "...       ...        ...       ...  \n",
       "9751      NaN       64.0       1.0  \n",
       "9752      NaN       20.0       2.0  \n",
       "9753      NaN      120.0       2.0  \n",
       "9754      NaN      150.0       4.0  \n",
       "9755      NaN        0.0       0.0  \n",
       "\n",
       "[9756 rows x 11 columns]"
      ]
     },
     "execution_count": 22,
     "metadata": {},
     "output_type": "execute_result"
    }
   ],
   "source": [
    "dataframe2011_2012"
   ]
  },
  {
   "cell_type": "code",
   "execution_count": 23,
   "id": "45b2f643-8fd6-4448-9361-322067784836",
   "metadata": {},
   "outputs": [
    {
     "data": {
      "text/plain": [
       "weight        0.352282\n",
       "sleep         0.346873\n",
       "protection    0.714055\n",
       "kidney        0.409889\n",
       "diabetes      0.040619\n",
       "sedentary     0.288792\n",
       "active        0.788555\n",
       "health        0.377622\n",
       "alcohol       0.558508\n",
       "eatingout     0.010439\n",
       "hospital      0.000000\n",
       "dtype: float64"
      ]
     },
     "execution_count": 23,
     "metadata": {},
     "output_type": "execute_result"
    }
   ],
   "source": [
    "dataframe2009_2010.isnull().mean() # Tells me how many nulls are in each column"
   ]
  },
  {
   "cell_type": "code",
   "execution_count": 24,
   "id": "eb3225f7-f282-4e7f-baa8-b9fccc7e2038",
   "metadata": {},
   "outputs": [
    {
     "data": {
      "text/plain": [
       "weight        0.370541\n",
       "sleep         0.367979\n",
       "protection    0.734112\n",
       "kidney        0.430197\n",
       "diabetes      0.040283\n",
       "sedentary     0.305761\n",
       "active        0.764248\n",
       "health        0.396064\n",
       "alcohol       0.570726\n",
       "eatingout     0.005228\n",
       "hospital      0.000000\n",
       "dtype: float64"
      ]
     },
     "execution_count": 24,
     "metadata": {},
     "output_type": "execute_result"
    }
   ],
   "source": [
    "dataframe2011_2012.isnull().mean()"
   ]
  },
  {
   "cell_type": "code",
   "execution_count": 25,
   "id": "373bb5f3-e8d4-454d-a9f9-40d4ecc115eb",
   "metadata": {},
   "outputs": [
    {
     "data": {
      "text/plain": [
       "weight        0.368059\n",
       "sleep         0.365012\n",
       "protection    0.712432\n",
       "kidney        0.433022\n",
       "diabetes      0.039902\n",
       "sedentary     0.298378\n",
       "active        0.706241\n",
       "health        0.364423\n",
       "alcohol       0.559803\n",
       "eatingout     0.012088\n",
       "hospital      0.000000\n",
       "dtype: float64"
      ]
     },
     "execution_count": 25,
     "metadata": {},
     "output_type": "execute_result"
    }
   ],
   "source": [
    "dataframe2013_2014.isnull().mean()"
   ]
  },
  {
   "cell_type": "code",
   "execution_count": 26,
   "id": "2afe4549-bb30-4f5f-ad8e-867f602174f3",
   "metadata": {},
   "outputs": [],
   "source": [
    "imputer = SimpleImputer(missing_values= np.nan, strategy = 'median') #If I wanted to populate on median for 1 column such as \"Median $$ spent eating out\" to eliminate Big spenders from driving the avg high. I'd do this"
   ]
  },
  {
   "cell_type": "code",
   "execution_count": 27,
   "id": "19c3a409-1b3f-428c-baf2-3b84b4a7558b",
   "metadata": {},
   "outputs": [],
   "source": [
    "eatingout2009_2 = pd.DataFrame(eatingout2009) #Creating new Dataframe with just the column I want to transform, since this column will be treated different.\n",
    "eatingout2011_2 = pd.DataFrame(eatingout2011)\n",
    "eatingout2013_2 = pd.DataFrame(eatingout2013)"
   ]
  },
  {
   "cell_type": "code",
   "execution_count": 28,
   "id": "1b2951c1-12b8-496a-8698-5c35c416f0c1",
   "metadata": {},
   "outputs": [
    {
     "data": {
      "text/plain": [
       "SimpleImputer(strategy='median')"
      ]
     },
     "execution_count": 28,
     "metadata": {},
     "output_type": "execute_result"
    }
   ],
   "source": [
    "imputer.fit(eatingout2009_2) #Fitting imputer to use median\n",
    "imputer.fit(eatingout2011_2)\n",
    "imputer.fit(eatingout2013_2)"
   ]
  },
  {
   "cell_type": "code",
   "execution_count": 29,
   "id": "9e4430c3-7845-47de-8038-a3e139e917cb",
   "metadata": {},
   "outputs": [],
   "source": [
    "eatingout2009_3 = imputer.transform(eatingout2009_2) #Transforming the column and populating with Medians, then storing as a new column.\n",
    "eatingout2011_3 = imputer.transform(eatingout2011_2)\n",
    "eatingout2013_3 = imputer.transform(eatingout2013_2)"
   ]
  },
  {
   "cell_type": "code",
   "execution_count": 30,
   "id": "e341b3b1-1ea9-4ac0-89b3-c90fce5f59e5",
   "metadata": {},
   "outputs": [],
   "source": [
    "EOCol09 = ['Eatingout2009'] #Creating some column names so it's easier to find. Can do this for the entire dataframe as well.\n",
    "EOCol11 = ['Eatingout2011']\n",
    "EOCol13 = ['Eatingout2013']"
   ]
  },
  {
   "cell_type": "code",
   "execution_count": 31,
   "id": "4efa5d9c-4b01-46d8-9d96-e3b12d7da538",
   "metadata": {},
   "outputs": [],
   "source": [
    "eatingout2009_4 = pd.DataFrame(data = eatingout2009_3, columns = EOCol09) #Finally storing these columns as dataframes to then replace in my master dataframe\n",
    "eatingout2011_4 = pd.DataFrame(data = eatingout2011_3, columns = EOCol11)\n",
    "eatingout2013_4 = pd.DataFrame(data = eatingout2013_3, columns = EOCol13)"
   ]
  },
  {
   "cell_type": "code",
   "execution_count": 32,
   "id": "e7fdaf46-74f7-4de0-a797-917116213dc0",
   "metadata": {},
   "outputs": [],
   "source": [
    "dataframe2009_2010 = pd.concat([weight2009,sleep2009,protection2009,kidney2009,diabetes2009,sedentary2009,active2009,health2009,alcohol2009,eatingout2009_4,hospital_09],axis=1) #replaced eating out\n",
    "\n",
    "dataframe2011_2012 = pd.concat([weight2011,sleep2011,protection2011,kidney2011,diabetes2011,sedentary2011,active2011,health2011,alcohol2011,eatingout2011_4,hospital_11],axis=1) #This can be done for each column I wish to treat differently and not use the averages\n",
    "\n",
    "dataframe2013_2014 = pd.concat([weight2013,sleep2013,protection2013,kidney2013,diabetes2013,sedentary2013,active2013,health2013,alcohol2013, eatingout2013_4,hospital_13],axis=1) \n"
   ]
  },
  {
   "cell_type": "code",
   "execution_count": 33,
   "id": "397efb74-8b78-4e3b-8af6-2df52b831f7b",
   "metadata": {},
   "outputs": [],
   "source": [
    "dataframe2009_2010.columns = Column_names #reassign names\n",
    "dataframe2011_2012.columns = Column_names\n",
    "dataframe2013_2014.columns = Column_names"
   ]
  },
  {
   "cell_type": "code",
   "execution_count": 34,
   "id": "6e09b3fa-f02e-47ab-90c7-862d1ad43ae6",
   "metadata": {},
   "outputs": [
    {
     "data": {
      "text/plain": [
       "weight        0.368059\n",
       "sleep         0.365012\n",
       "protection    0.712432\n",
       "kidney        0.433022\n",
       "diabetes      0.039902\n",
       "sedentary     0.298378\n",
       "active        0.706241\n",
       "health        0.364423\n",
       "alcohol       0.559803\n",
       "eatingout     0.000000\n",
       "hospital      0.000000\n",
       "dtype: float64"
      ]
     },
     "execution_count": 34,
     "metadata": {},
     "output_type": "execute_result"
    }
   ],
   "source": [
    "dataframe2013_2014.isnull().mean() #As we can see with this test, eatingout now has no null values and I can proceed to replace the rest"
   ]
  },
  {
   "cell_type": "code",
   "execution_count": 35,
   "id": "6eccc729-ad62-4eaa-97ac-e5de0d30a3ed",
   "metadata": {},
   "outputs": [],
   "source": [
    "imputer = SimpleImputer(missing_values= np.nan, strategy = 'mean') #I want to change the strategy now for mean because I want to use that for the rest of populating"
   ]
  },
  {
   "cell_type": "code",
   "execution_count": 36,
   "id": "1d5f081e-281f-41fe-b540-53efc956f419",
   "metadata": {},
   "outputs": [
    {
     "data": {
      "text/plain": [
       "SimpleImputer()"
      ]
     },
     "execution_count": 36,
     "metadata": {},
     "output_type": "execute_result"
    }
   ],
   "source": [
    "imputer.fit(dataframe2009_2010) #preparing my dataframes\n",
    "imputer.fit(dataframe2011_2012)\n",
    "imputer.fit(dataframe2013_2014)"
   ]
  },
  {
   "cell_type": "code",
   "execution_count": 37,
   "id": "a75def7e-76da-4e5f-8d1b-d7d6604b66e7",
   "metadata": {},
   "outputs": [],
   "source": [
    "transdata2009 = imputer.transform(dataframe2009_2010) #Replacing the blank values with the average value and storing as an array.\n",
    "transdata2011 = imputer.transform(dataframe2011_2012) \n",
    "transdata2013 = imputer.transform(dataframe2013_2014) "
   ]
  },
  {
   "cell_type": "code",
   "execution_count": 38,
   "id": "6835ba7c-55ea-4b20-9104-0db6193331ed",
   "metadata": {},
   "outputs": [],
   "source": [
    "dataframe2009 = pd.DataFrame(transdata2009) #2009 data with N/A's replaced\n",
    "dataframe2011 = pd.DataFrame(transdata2011) #2011 data with N/A's replaced\n",
    "dataframe2013 = pd.DataFrame(transdata2013) #2013 data with N/A's replaced"
   ]
  },
  {
   "cell_type": "code",
   "execution_count": 39,
   "id": "3856a183-38c4-4439-970f-b114cfd4b908",
   "metadata": {},
   "outputs": [],
   "source": [
    "dataframe2009.columns = Column_names #reassign names\n",
    "dataframe2011.columns = Column_names\n",
    "dataframe2013.columns = Column_names"
   ]
  },
  {
   "cell_type": "code",
   "execution_count": 40,
   "id": "d037fda0-2ecb-4f88-a33c-d887d7728592",
   "metadata": {},
   "outputs": [
    {
     "data": {
      "text/html": [
       "<div>\n",
       "<style scoped>\n",
       "    .dataframe tbody tr th:only-of-type {\n",
       "        vertical-align: middle;\n",
       "    }\n",
       "\n",
       "    .dataframe tbody tr th {\n",
       "        vertical-align: top;\n",
       "    }\n",
       "\n",
       "    .dataframe thead th {\n",
       "        text-align: right;\n",
       "    }\n",
       "</style>\n",
       "<table border=\"1\" class=\"dataframe\">\n",
       "  <thead>\n",
       "    <tr style=\"text-align: right;\">\n",
       "      <th></th>\n",
       "      <th>weight</th>\n",
       "      <th>sleep</th>\n",
       "      <th>protection</th>\n",
       "      <th>kidney</th>\n",
       "      <th>diabetes</th>\n",
       "      <th>sedentary</th>\n",
       "      <th>active</th>\n",
       "      <th>health</th>\n",
       "      <th>alcohol</th>\n",
       "      <th>eatingout</th>\n",
       "      <th>hospital</th>\n",
       "    </tr>\n",
       "  </thead>\n",
       "  <tbody>\n",
       "    <tr>\n",
       "      <th>0</th>\n",
       "      <td>180.000000</td>\n",
       "      <td>7.000000</td>\n",
       "      <td>3.373548</td>\n",
       "      <td>2.000000</td>\n",
       "      <td>1.000000</td>\n",
       "      <td>600.000000</td>\n",
       "      <td>5.802275</td>\n",
       "      <td>2.000000</td>\n",
       "      <td>1.00000</td>\n",
       "      <td>0.0</td>\n",
       "      <td>5.0</td>\n",
       "    </tr>\n",
       "    <tr>\n",
       "      <th>1</th>\n",
       "      <td>200.000000</td>\n",
       "      <td>9.000000</td>\n",
       "      <td>5.000000</td>\n",
       "      <td>2.000000</td>\n",
       "      <td>1.000000</td>\n",
       "      <td>540.000000</td>\n",
       "      <td>5.802275</td>\n",
       "      <td>4.000000</td>\n",
       "      <td>7.00000</td>\n",
       "      <td>40.0</td>\n",
       "      <td>5.0</td>\n",
       "    </tr>\n",
       "    <tr>\n",
       "      <th>2</th>\n",
       "      <td>195.000000</td>\n",
       "      <td>8.000000</td>\n",
       "      <td>3.373548</td>\n",
       "      <td>1.000000</td>\n",
       "      <td>1.000000</td>\n",
       "      <td>300.000000</td>\n",
       "      <td>5.802275</td>\n",
       "      <td>3.000000</td>\n",
       "      <td>0.00000</td>\n",
       "      <td>40.0</td>\n",
       "      <td>2.0</td>\n",
       "    </tr>\n",
       "    <tr>\n",
       "      <th>3</th>\n",
       "      <td>120.000000</td>\n",
       "      <td>9.000000</td>\n",
       "      <td>3.373548</td>\n",
       "      <td>1.000000</td>\n",
       "      <td>2.000000</td>\n",
       "      <td>478.548956</td>\n",
       "      <td>5.000000</td>\n",
       "      <td>2.768053</td>\n",
       "      <td>0.00000</td>\n",
       "      <td>50.0</td>\n",
       "      <td>1.0</td>\n",
       "    </tr>\n",
       "    <tr>\n",
       "      <th>4</th>\n",
       "      <td>235.000000</td>\n",
       "      <td>5.000000</td>\n",
       "      <td>3.373548</td>\n",
       "      <td>2.000000</td>\n",
       "      <td>2.000000</td>\n",
       "      <td>480.000000</td>\n",
       "      <td>5.802275</td>\n",
       "      <td>5.000000</td>\n",
       "      <td>5.00000</td>\n",
       "      <td>0.0</td>\n",
       "      <td>4.0</td>\n",
       "    </tr>\n",
       "    <tr>\n",
       "      <th>...</th>\n",
       "      <td>...</td>\n",
       "      <td>...</td>\n",
       "      <td>...</td>\n",
       "      <td>...</td>\n",
       "      <td>...</td>\n",
       "      <td>...</td>\n",
       "      <td>...</td>\n",
       "      <td>...</td>\n",
       "      <td>...</td>\n",
       "      <td>...</td>\n",
       "      <td>...</td>\n",
       "    </tr>\n",
       "    <tr>\n",
       "      <th>10170</th>\n",
       "      <td>254.215863</td>\n",
       "      <td>7.050302</td>\n",
       "      <td>3.373548</td>\n",
       "      <td>1.977292</td>\n",
       "      <td>1.947589</td>\n",
       "      <td>478.548956</td>\n",
       "      <td>5.802275</td>\n",
       "      <td>2.768053</td>\n",
       "      <td>4.70931</td>\n",
       "      <td>800.0</td>\n",
       "      <td>1.0</td>\n",
       "    </tr>\n",
       "    <tr>\n",
       "      <th>10171</th>\n",
       "      <td>254.215863</td>\n",
       "      <td>7.050302</td>\n",
       "      <td>3.373548</td>\n",
       "      <td>1.977292</td>\n",
       "      <td>1.947589</td>\n",
       "      <td>478.548956</td>\n",
       "      <td>5.802275</td>\n",
       "      <td>2.768053</td>\n",
       "      <td>4.70931</td>\n",
       "      <td>120.0</td>\n",
       "      <td>0.0</td>\n",
       "    </tr>\n",
       "    <tr>\n",
       "      <th>10172</th>\n",
       "      <td>254.215863</td>\n",
       "      <td>7.050302</td>\n",
       "      <td>3.373548</td>\n",
       "      <td>1.977292</td>\n",
       "      <td>1.947589</td>\n",
       "      <td>478.548956</td>\n",
       "      <td>5.802275</td>\n",
       "      <td>2.768053</td>\n",
       "      <td>4.70931</td>\n",
       "      <td>45.0</td>\n",
       "      <td>5.0</td>\n",
       "    </tr>\n",
       "    <tr>\n",
       "      <th>10173</th>\n",
       "      <td>254.215863</td>\n",
       "      <td>7.050302</td>\n",
       "      <td>3.373548</td>\n",
       "      <td>1.977292</td>\n",
       "      <td>1.947589</td>\n",
       "      <td>478.548956</td>\n",
       "      <td>5.802275</td>\n",
       "      <td>2.768053</td>\n",
       "      <td>4.70931</td>\n",
       "      <td>30.0</td>\n",
       "      <td>0.0</td>\n",
       "    </tr>\n",
       "    <tr>\n",
       "      <th>10174</th>\n",
       "      <td>254.215863</td>\n",
       "      <td>7.050302</td>\n",
       "      <td>3.373548</td>\n",
       "      <td>1.977292</td>\n",
       "      <td>1.947589</td>\n",
       "      <td>478.548956</td>\n",
       "      <td>5.802275</td>\n",
       "      <td>2.768053</td>\n",
       "      <td>4.70931</td>\n",
       "      <td>257.0</td>\n",
       "      <td>1.0</td>\n",
       "    </tr>\n",
       "  </tbody>\n",
       "</table>\n",
       "<p>10175 rows × 11 columns</p>\n",
       "</div>"
      ],
      "text/plain": [
       "           weight     sleep  protection    kidney  diabetes   sedentary  \\\n",
       "0      180.000000  7.000000    3.373548  2.000000  1.000000  600.000000   \n",
       "1      200.000000  9.000000    5.000000  2.000000  1.000000  540.000000   \n",
       "2      195.000000  8.000000    3.373548  1.000000  1.000000  300.000000   \n",
       "3      120.000000  9.000000    3.373548  1.000000  2.000000  478.548956   \n",
       "4      235.000000  5.000000    3.373548  2.000000  2.000000  480.000000   \n",
       "...           ...       ...         ...       ...       ...         ...   \n",
       "10170  254.215863  7.050302    3.373548  1.977292  1.947589  478.548956   \n",
       "10171  254.215863  7.050302    3.373548  1.977292  1.947589  478.548956   \n",
       "10172  254.215863  7.050302    3.373548  1.977292  1.947589  478.548956   \n",
       "10173  254.215863  7.050302    3.373548  1.977292  1.947589  478.548956   \n",
       "10174  254.215863  7.050302    3.373548  1.977292  1.947589  478.548956   \n",
       "\n",
       "         active    health  alcohol  eatingout  hospital  \n",
       "0      5.802275  2.000000  1.00000        0.0       5.0  \n",
       "1      5.802275  4.000000  7.00000       40.0       5.0  \n",
       "2      5.802275  3.000000  0.00000       40.0       2.0  \n",
       "3      5.000000  2.768053  0.00000       50.0       1.0  \n",
       "4      5.802275  5.000000  5.00000        0.0       4.0  \n",
       "...         ...       ...      ...        ...       ...  \n",
       "10170  5.802275  2.768053  4.70931      800.0       1.0  \n",
       "10171  5.802275  2.768053  4.70931      120.0       0.0  \n",
       "10172  5.802275  2.768053  4.70931       45.0       5.0  \n",
       "10173  5.802275  2.768053  4.70931       30.0       0.0  \n",
       "10174  5.802275  2.768053  4.70931      257.0       1.0  \n",
       "\n",
       "[10175 rows x 11 columns]"
      ]
     },
     "execution_count": 40,
     "metadata": {},
     "output_type": "execute_result"
    }
   ],
   "source": [
    "dataframe2013 #Quick look at 2013 data"
   ]
  },
  {
   "cell_type": "code",
   "execution_count": 41,
   "id": "a3d15350-b8aa-43a3-997e-3cc71e16117d",
   "metadata": {},
   "outputs": [
    {
     "data": {
      "text/plain": [
       "weight        0.0\n",
       "sleep         0.0\n",
       "protection    0.0\n",
       "kidney        0.0\n",
       "diabetes      0.0\n",
       "sedentary     0.0\n",
       "active        0.0\n",
       "health        0.0\n",
       "alcohol       0.0\n",
       "eatingout     0.0\n",
       "hospital      0.0\n",
       "dtype: float64"
      ]
     },
     "execution_count": 41,
     "metadata": {},
     "output_type": "execute_result"
    }
   ],
   "source": [
    "dataframe2009.isnull().mean() #quick check"
   ]
  },
  {
   "cell_type": "code",
   "execution_count": 42,
   "id": "8e727fa5-ed6c-496c-b456-857ade01403b",
   "metadata": {},
   "outputs": [
    {
     "data": {
      "text/plain": [
       "weight        0.0\n",
       "sleep         0.0\n",
       "protection    0.0\n",
       "kidney        0.0\n",
       "diabetes      0.0\n",
       "sedentary     0.0\n",
       "active        0.0\n",
       "health        0.0\n",
       "alcohol       0.0\n",
       "eatingout     0.0\n",
       "hospital      0.0\n",
       "dtype: float64"
      ]
     },
     "execution_count": 42,
     "metadata": {},
     "output_type": "execute_result"
    }
   ],
   "source": [
    "dataframe2011.isnull().mean() #quick check"
   ]
  },
  {
   "cell_type": "code",
   "execution_count": 43,
   "id": "8e6850b9-dc9b-4ff7-88ab-126474555364",
   "metadata": {},
   "outputs": [
    {
     "data": {
      "text/plain": [
       "weight        0.0\n",
       "sleep         0.0\n",
       "protection    0.0\n",
       "kidney        0.0\n",
       "diabetes      0.0\n",
       "sedentary     0.0\n",
       "active        0.0\n",
       "health        0.0\n",
       "alcohol       0.0\n",
       "eatingout     0.0\n",
       "hospital      0.0\n",
       "dtype: float64"
      ]
     },
     "execution_count": 43,
     "metadata": {},
     "output_type": "execute_result"
    }
   ],
   "source": [
    "dataframe2013.isnull().mean() #quick check"
   ]
  },
  {
   "cell_type": "code",
   "execution_count": 44,
   "id": "48b0ae2a-4afc-45bb-8a2f-5462e8900e4d",
   "metadata": {},
   "outputs": [],
   "source": [
    "from sklearn import linear_model"
   ]
  },
  {
   "cell_type": "code",
   "execution_count": 45,
   "id": "89b4f413-6dd3-4e21-a6f6-1a40740ddfef",
   "metadata": {},
   "outputs": [],
   "source": [
    "reg = linear_model.Ridge(alpha=.5) #create our alpha for the regression"
   ]
  },
  {
   "cell_type": "code",
   "execution_count": 46,
   "id": "5161e7b7-34b3-4b54-ad03-a74f000b6679",
   "metadata": {},
   "outputs": [],
   "source": [
    "#create the X and Y variables for our 2009 regression\n",
    "X = dataframe2009[['weight','sleep','protection','kidney','diabetes','sedentary','active','health','alcohol','eatingout']].astype(float)\n",
    "Y = dataframe2009[\"hospital\"].values"
   ]
  },
  {
   "cell_type": "code",
   "execution_count": 47,
   "id": "114d1a91-ced7-491a-8d10-919146d2e4b0",
   "metadata": {},
   "outputs": [
    {
     "data": {
      "text/plain": [
       "Ridge(alpha=0.5)"
      ]
     },
     "execution_count": 47,
     "metadata": {},
     "output_type": "execute_result"
    }
   ],
   "source": [
    "reg.fit(X,Y) #create the regression"
   ]
  },
  {
   "cell_type": "code",
   "execution_count": 48,
   "id": "efab288a-698b-4f36-a6d9-4841c6de1adc",
   "metadata": {},
   "outputs": [
    {
     "data": {
      "text/plain": [
       "array([-1.66630596e-05, -5.79140717e-03, -4.19030417e-02, -2.44404627e-02,\n",
       "        3.69367252e-02,  7.06084307e-05, -4.74586670e-03, -1.62925944e-03,\n",
       "       -6.73517721e-04,  1.13187316e-06])"
      ]
     },
     "execution_count": 48,
     "metadata": {},
     "output_type": "execute_result"
    }
   ],
   "source": [
    "reg.coef_ #coefficients for each X variable for 2009 data"
   ]
  },
  {
   "cell_type": "code",
   "execution_count": 49,
   "id": "ab9086a9-75e3-45c4-a7c8-1e82c26b782b",
   "metadata": {},
   "outputs": [
    {
     "data": {
      "text/plain": [
       "2.352123094379169"
      ]
     },
     "execution_count": 49,
     "metadata": {},
     "output_type": "execute_result"
    }
   ],
   "source": [
    "reg.intercept_ #intercept for 2009 data"
   ]
  },
  {
   "cell_type": "code",
   "execution_count": 50,
   "id": "e5da8939-a40d-43d7-bcdb-c7c119452fec",
   "metadata": {},
   "outputs": [],
   "source": [
    "#create the X and Y variables for our  2011 regression\n",
    "X1 = dataframe2011[['weight','sleep','protection','kidney','diabetes','sedentary','active','health','alcohol','eatingout']].astype(float)\n",
    "Y1 = dataframe2011[\"hospital\"].values"
   ]
  },
  {
   "cell_type": "code",
   "execution_count": 51,
   "id": "0b793c61-ba46-4d5f-81f9-2a4f4f6790b8",
   "metadata": {},
   "outputs": [
    {
     "data": {
      "text/plain": [
       "Ridge(alpha=0.5)"
      ]
     },
     "execution_count": 51,
     "metadata": {},
     "output_type": "execute_result"
    }
   ],
   "source": [
    "reg.fit(X1,Y1) #create the regression"
   ]
  },
  {
   "cell_type": "code",
   "execution_count": 52,
   "id": "5ba334d0-3286-43a0-b795-5a474e264603",
   "metadata": {},
   "outputs": [
    {
     "data": {
      "text/plain": [
       "array([-8.58652269e-06,  4.99881453e-03,  2.24928270e-02,  7.44274602e-02,\n",
       "       -9.59254567e-02, -7.18204896e-05, -1.29844232e-02,  1.26843994e-02,\n",
       "        5.04612119e-05,  1.83822019e-07])"
      ]
     },
     "execution_count": 52,
     "metadata": {},
     "output_type": "execute_result"
    }
   ],
   "source": [
    "reg.coef_ #coefficients foreach X variable in 2011 data"
   ]
  },
  {
   "cell_type": "code",
   "execution_count": 53,
   "id": "8537f74d-717c-41a2-b1bc-5eb49d2b0b91",
   "metadata": {},
   "outputs": [
    {
     "data": {
      "text/plain": [
       "2.1447070762746123"
      ]
     },
     "execution_count": 53,
     "metadata": {},
     "output_type": "execute_result"
    }
   ],
   "source": [
    "reg.intercept_ #intercept for 2011 data"
   ]
  },
  {
   "cell_type": "code",
   "execution_count": 60,
   "id": "fe2c58cb-7fe2-42df-b62b-d2401a8a0bb5",
   "metadata": {},
   "outputs": [],
   "source": [
    "import matplotlib.pyplot as plt"
   ]
  },
  {
   "cell_type": "code",
   "execution_count": 55,
   "id": "a8865f74-5ce7-44f7-a093-7c519475443b",
   "metadata": {},
   "outputs": [],
   "source": [
    "#create our X and Y variables for our 2013 regression\n",
    "X2 = dataframe2013[['weight','sleep','protection','kidney','diabetes','sedentary','active','health','alcohol','eatingout']].astype(float)\n",
    "Y2 = dataframe2013[\"hospital\"].values"
   ]
  },
  {
   "cell_type": "code",
   "execution_count": 56,
   "id": "57a19568-438e-41cd-a3e3-42bde37b8089",
   "metadata": {},
   "outputs": [
    {
     "data": {
      "text/plain": [
       "Ridge(alpha=0.5)"
      ]
     },
     "execution_count": 56,
     "metadata": {},
     "output_type": "execute_result"
    }
   ],
   "source": [
    "reg.fit(X2,Y2) #create the regression"
   ]
  },
  {
   "cell_type": "code",
   "execution_count": 57,
   "id": "d279e3b8-2a15-41b5-aa70-901acf2b71bd",
   "metadata": {},
   "outputs": [
    {
     "data": {
      "text/plain": [
       "array([ 2.11620599e-04,  5.81377432e-03, -4.67216574e-02, -7.10430079e-03,\n",
       "        4.31538764e-02,  6.75252817e-06, -2.93251361e-03,  1.38678088e-02,\n",
       "       -1.02534721e-03,  4.28746185e-07])"
      ]
     },
     "execution_count": 57,
     "metadata": {},
     "output_type": "execute_result"
    }
   ],
   "source": [
    "reg.coef_ #coefficients for each X variable in 2013 data"
   ]
  },
  {
   "cell_type": "code",
   "execution_count": 58,
   "id": "4a3ff7eb-0eff-4d18-a4c1-475c0900c3be",
   "metadata": {},
   "outputs": [
    {
     "data": {
      "text/plain": [
       "2.454393210651645"
      ]
     },
     "execution_count": 58,
     "metadata": {},
     "output_type": "execute_result"
    }
   ],
   "source": [
    "reg.intercept_ #intercept for 2013 data"
   ]
  },
  {
   "cell_type": "code",
   "execution_count": 69,
   "id": "5a55485b-88dc-4c2b-b98e-76772011f022",
   "metadata": {},
   "outputs": [
    {
     "data": {
      "text/plain": [
       "(0.0, 100.0)"
      ]
     },
     "execution_count": 69,
     "metadata": {},
     "output_type": "execute_result"
    },
    {
     "data": {
      "image/png": "[encoded data removed]",
      "text/plain": [
       "<Figure size 432x288 with 1 Axes>"
      ]
     },
     "metadata": {
      "needs_background": "light"
     },
     "output_type": "display_data"
    }
   ],
   "source": [
    "dataframe2009.plot.scatter('sedentary', 'hospital')   #Extra Credit #When comparing the scatter plots for all three years, we can see there is no corelation between the amount of sedentary activity and healthcare visits.\n",
    "plt.ylim([0, 10])\n",
    "plt.xlim([0, 100])  \n"
   ]
  },
  {
   "cell_type": "code",
   "execution_count": 70,
   "id": "17850a3e-0c0a-4571-9297-d14d8208593f",
   "metadata": {},
   "outputs": [
    {
     "data": {
      "text/plain": [
       "(0.0, 100.0)"
      ]
     },
     "execution_count": 70,
     "metadata": {},
     "output_type": "execute_result"
    },
    {
     "data": {
      "image/png": "[encoded data removed]",
      "text/plain": [
       "<Figure size 432x288 with 1 Axes>"
      ]
     },
     "metadata": {
      "needs_background": "light"
     },
     "output_type": "display_data"
    }
   ],
   "source": [
    "dataframe2011.plot.scatter('sedentary', 'hospital')\n",
    "plt.ylim([0, 10])\n",
    "plt.xlim([0, 100])"
   ]
  },
  {
   "cell_type": "code",
   "execution_count": 71,
   "id": "114fd019-c360-49b4-a7ce-bd6c7760047c",
   "metadata": {},
   "outputs": [
    {
     "data": {
      "text/plain": [
       "(0.0, 100.0)"
      ]
     },
     "execution_count": 71,
     "metadata": {},
     "output_type": "execute_result"
    },
    {
     "data": {
      "image/png": "[encoded data removed]",
      "text/plain": [
       "<Figure size 432x288 with 1 Axes>"
      ]
     },
     "metadata": {
      "needs_background": "light"
     },
     "output_type": "display_data"
    }
   ],
   "source": [
    "dataframe2013.plot.scatter('sedentary', 'hospital')\n",
    "plt.ylim([0, 10])\n",
    "plt.xlim([0, 100])"
   ]
  },
  {
   "cell_type": "code",
   "execution_count": null,
   "id": "761553c1-c6e1-421e-8236-09dc29ebe3d0",
   "metadata": {},
   "outputs": [],
   "source": []
  }
 ],
 "metadata": {
  "kernelspec": {
   "display_name": "Python 3 (ipykernel)",
   "language": "python",
   "name": "python3"
  },
  "language_info": {
   "codemirror_mode": {
    "name": "ipython",
    "version": 3
   },
   "file_extension": ".py",
   "mimetype": "text/x-python",
   "name": "python",
   "nbconvert_exporter": "python",
   "pygments_lexer": "ipython3",
   "version": "3.9.7"
  }
 },
 "nbformat": 4,
 "nbformat_minor": 5
}
